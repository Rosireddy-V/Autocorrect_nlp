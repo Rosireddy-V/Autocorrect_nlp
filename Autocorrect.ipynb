{
  "nbformat": 4,
  "nbformat_minor": 0,
  "metadata": {
    "colab": {
      "provenance": [],
      "authorship_tag": "ABX9TyObCjBja8jP9mkNC3uWPQcE",
      "include_colab_link": true
    },
    "kernelspec": {
      "name": "python3",
      "display_name": "Python 3"
    },
    "language_info": {
      "name": "python"
    }
  },
  "cells": [
    {
      "cell_type": "markdown",
      "metadata": {
        "id": "view-in-github",
        "colab_type": "text"
      },
      "source": [
        "<a href=\"https://colab.research.google.com/github/Rosireddy-V/Autocorrect_nlp/blob/main/Autocorrect.ipynb\" target=\"_parent\"><img src=\"https://colab.research.google.com/assets/colab-badge.svg\" alt=\"Open In Colab\"/></a>"
      ]
    },
    {
      "cell_type": "code",
      "execution_count": 71,
      "metadata": {
        "id": "v1Qw9ssn8XWy"
      },
      "outputs": [],
      "source": [
        "import re\n",
        "import numpy as np\n",
        "import pandas as pd\n",
        "from collections import Counter\n",
        "import matplotlib.pyplot as plt"
      ]
    },
    {
      "cell_type": "code",
      "source": [
        "text = 'red pink pink blue blue yellow ORANGE BLUE BLUE PINK purple purple' # 🌈\n",
        "print(text)\n",
        "print('string length : ',len(text))"
      ],
      "metadata": {
        "colab": {
          "base_uri": "https://localhost:8080/"
        },
        "id": "8lSeZ1IZ8hgl",
        "outputId": "2dc99788-5ded-42b7-d05a-158b7c836367"
      },
      "execution_count": 37,
      "outputs": [
        {
          "output_type": "stream",
          "name": "stdout",
          "text": [
            "red pink pink blue blue yellow ORANGE BLUE BLUE PINK purple purple\n",
            "string length :  66\n"
          ]
        }
      ]
    },
    {
      "cell_type": "code",
      "source": [
        "text_lowercase = text.lower()\n",
        "print(text_lowercase)\n",
        "print('string length : ',len(text_lowercase))"
      ],
      "metadata": {
        "colab": {
          "base_uri": "https://localhost:8080/"
        },
        "id": "tr_QDCg18mZl",
        "outputId": "a41df752-2370-43f3-dfb0-f98ceac8f6a0"
      },
      "execution_count": 38,
      "outputs": [
        {
          "output_type": "stream",
          "name": "stdout",
          "text": [
            "red pink pink blue blue yellow orange blue blue pink purple purple\n",
            "string length :  66\n"
          ]
        }
      ]
    },
    {
      "cell_type": "code",
      "source": [
        "words=re.findall(r'\\w+',text_lowercase)\n",
        "print(words)\n",
        "print(\"no of words:- \",len(words))"
      ],
      "metadata": {
        "colab": {
          "base_uri": "https://localhost:8080/"
        },
        "id": "otqJXRtB8pdj",
        "outputId": "fe7653f6-b4b7-4c5c-e61b-a80ff25f5b00"
      },
      "execution_count": 39,
      "outputs": [
        {
          "output_type": "stream",
          "name": "stdout",
          "text": [
            "['red', 'pink', 'pink', 'blue', 'blue', 'yellow', 'orange', 'blue', 'blue', 'pink', 'purple', 'purple']\n",
            "no of words:-  12\n"
          ]
        }
      ]
    },
    {
      "cell_type": "code",
      "source": [
        "vocab=set(words)\n",
        "print(\"no of distinct words = \",len(vocab))\n",
        "print(vocab)"
      ],
      "metadata": {
        "colab": {
          "base_uri": "https://localhost:8080/"
        },
        "id": "rxYlXjFN8sVd",
        "outputId": "5821ef51-4c61-4d37-b2e4-fb7710ffab36"
      },
      "execution_count": 40,
      "outputs": [
        {
          "output_type": "stream",
          "name": "stdout",
          "text": [
            "no of distinct words =  6\n",
            "{'blue', 'purple', 'pink', 'red', 'yellow', 'orange'}\n"
          ]
        }
      ]
    },
    {
      "cell_type": "code",
      "source": [
        "counts_a=dict()\n",
        "for w in words:\n",
        "    if w in counts_a.keys():\n",
        "        counts_a[w]+=1\n",
        "    else:\n",
        "        counts_a[w]=1\n",
        "counts_a"
      ],
      "metadata": {
        "colab": {
          "base_uri": "https://localhost:8080/"
        },
        "id": "vti7yOoZ8vrV",
        "outputId": "e26de9b5-8168-4e58-8cad-df7776a48d5f"
      },
      "execution_count": 41,
      "outputs": [
        {
          "output_type": "execute_result",
          "data": {
            "text/plain": [
              "{'red': 1, 'pink': 3, 'blue': 4, 'yellow': 1, 'orange': 1, 'purple': 2}"
            ]
          },
          "metadata": {},
          "execution_count": 41
        }
      ]
    },
    {
      "cell_type": "code",
      "source": [
        "counts_b = dict()\n",
        "counts_b = Counter(words)\n",
        "keys=counts_b.keys()\n",
        "print(counts_b['green'])\n",
        "print(counts_b)\n",
        "print('count : ',len(counts_b))"
      ],
      "metadata": {
        "colab": {
          "base_uri": "https://localhost:8080/"
        },
        "id": "ebl0KjGp8yul",
        "outputId": "9d8337c8-7ca4-4a2d-9441-54a833c63e22"
      },
      "execution_count": 42,
      "outputs": [
        {
          "output_type": "stream",
          "name": "stdout",
          "text": [
            "0\n",
            "Counter({'blue': 4, 'pink': 3, 'purple': 2, 'red': 1, 'yellow': 1, 'orange': 1})\n",
            "count :  6\n"
          ]
        }
      ]
    },
    {
      "cell_type": "code",
      "source": [
        "d = {'blue': counts_b['blue'], 'pink': counts_b['pink'], 'red': counts_b['red'], 'yellow': counts_b['yellow'], 'orange': counts_b['orange'], 'purple': counts_b['purple']}\n",
        "plt.bar(range(len(d)), list(d.values()), align='center', color=d.keys())\n",
        "_ = plt.xticks(range(len(d)), list(d.keys()))"
      ],
      "metadata": {
        "colab": {
          "base_uri": "https://localhost:8080/",
          "height": 430
        },
        "id": "kQpxKBXq82gy",
        "outputId": "14527018-fe21-415c-bf53-2d3f01fa3f38"
      },
      "execution_count": 43,
      "outputs": [
        {
          "output_type": "display_data",
          "data": {
            "text/plain": [
              "<Figure size 640x480 with 1 Axes>"
            ],
            "image/png": "[encoded data removed]"
          },
          "metadata": {}
        }
      ]
    },
    {
      "cell_type": "code",
      "source": [
        "word='dearz'"
      ],
      "metadata": {
        "id": "R4EtyZ4-86EU"
      },
      "execution_count": 44,
      "outputs": []
    },
    {
      "cell_type": "code",
      "source": [
        "splits=[]\n",
        "leng=len(word)+1\n",
        "for i in range(leng):\n",
        "    splits.append([word[0:i],word[i:]])\n",
        "splits"
      ],
      "metadata": {
        "colab": {
          "base_uri": "https://localhost:8080/"
        },
        "id": "Lj9otmqT89nM",
        "outputId": "58c27001-dd35-4fdd-ae7c-74ff88a2243c"
      },
      "execution_count": 45,
      "outputs": [
        {
          "output_type": "execute_result",
          "data": {
            "text/plain": [
              "[['', 'dearz'],\n",
              " ['d', 'earz'],\n",
              " ['de', 'arz'],\n",
              " ['dea', 'rz'],\n",
              " ['dear', 'z'],\n",
              " ['dearz', '']]"
            ]
          },
          "metadata": {},
          "execution_count": 45
        }
      ]
    },
    {
      "cell_type": "code",
      "source": [
        "splits=[(word[:i],word[i:]) for i in range(leng)]\n",
        "splits"
      ],
      "metadata": {
        "colab": {
          "base_uri": "https://localhost:8080/"
        },
        "id": "6ned-9oC9AdN",
        "outputId": "9c2a58f7-adbf-41c4-cd28-c8478e7f210d"
      },
      "execution_count": 46,
      "outputs": [
        {
          "output_type": "execute_result",
          "data": {
            "text/plain": [
              "[('', 'dearz'),\n",
              " ('d', 'earz'),\n",
              " ('de', 'arz'),\n",
              " ('dea', 'rz'),\n",
              " ('dear', 'z'),\n",
              " ('dearz', '')]"
            ]
          },
          "metadata": {},
          "execution_count": 46
        }
      ]
    },
    {
      "cell_type": "code",
      "source": [
        "one_char_del=[]\n",
        "for tup in splits:\n",
        "    if tup[1]:\n",
        "        one_char_del.append([tup[0]+tup[1][1:]])\n",
        "one_char_del"
      ],
      "metadata": {
        "colab": {
          "base_uri": "https://localhost:8080/"
        },
        "id": "T-05WkuY9D8A",
        "outputId": "8be8f399-e9af-43c1-a39c-5898431a06fe"
      },
      "execution_count": 47,
      "outputs": [
        {
          "output_type": "execute_result",
          "data": {
            "text/plain": [
              "[['earz'], ['darz'], ['derz'], ['deaz'], ['dear']]"
            ]
          },
          "metadata": {},
          "execution_count": 47
        }
      ]
    },
    {
      "cell_type": "code",
      "source": [
        "def process_data(file_name):\n",
        "  words=[]\n",
        "  with open(file_name) as f:\n",
        "    text=f.read().lower()\n",
        "  words=re.findall(r'\\w+',text)\n",
        "\n",
        "  return words"
      ],
      "metadata": {
        "id": "kthv_0ME9G7Q"
      },
      "execution_count": 48,
      "outputs": []
    },
    {
      "cell_type": "code",
      "source": [
        "words_st=process_data('shakespeare.txt')\n",
        "vocab=set(words_st)\n",
        "l_vocab=len(vocab)\n",
        "print(\"last ten words of the corpus are:-\\n\",words_st[-10:])\n",
        "print(\"there are {} unique words\".format(l_vocab))"
      ],
      "metadata": {
        "colab": {
          "base_uri": "https://localhost:8080/"
        },
        "id": "-xjbl8UR_sL5",
        "outputId": "1cad2abf-5a10-4a30-f712-8b6777ac5014"
      },
      "execution_count": 49,
      "outputs": [
        {
          "output_type": "stream",
          "name": "stdout",
          "text": [
            "last ten words of the corpus are:-\n",
            " ['whilst', 'you', 'abide', 'here', 'enobarbus', 'humbly', 'sir', 'i', 'thank', 'you']\n",
            "there are 6116 unique words\n"
          ]
        }
      ]
    },
    {
      "cell_type": "code",
      "source": [
        "def count_word(words_c):\n",
        "  word_count={}\n",
        "  for w in words_c:\n",
        "    if w not in word_count.keys():\n",
        "      word_count[w]=1\n",
        "    else:\n",
        "      word_count[w]+=1\n",
        "\n",
        "  return word_count"
      ],
      "metadata": {
        "id": "OCGk224zA_VV"
      },
      "execution_count": 50,
      "outputs": []
    },
    {
      "cell_type": "code",
      "source": [
        "word_counts=count_word(words_st)\n",
        "print(\"there are {} key-value pairs\".format(len(word_counts)))"
      ],
      "metadata": {
        "colab": {
          "base_uri": "https://localhost:8080/"
        },
        "id": "9L4b3QiQB40q",
        "outputId": "12c3e50c-a088-429a-ca8d-5789e723af48"
      },
      "execution_count": 51,
      "outputs": [
        {
          "output_type": "stream",
          "name": "stdout",
          "text": [
            "there are 6116 key-value pairs\n"
          ]
        }
      ]
    },
    {
      "cell_type": "code",
      "source": [
        "def get_prob(word_count_dict):\n",
        "  word_prob={}\n",
        "  s=sum(word_count_dict.values())\n",
        "  for w in word_count_dict.keys():\n",
        "    word_prob[w]= word_count_dict[w]/s\n",
        "\n",
        "  return word_prob"
      ],
      "metadata": {
        "id": "qiVbvzJRCEVF"
      },
      "execution_count": 52,
      "outputs": []
    },
    {
      "cell_type": "code",
      "source": [
        "word_probabilites=get_prob(word_counts)\n",
        "word_probabilites['thee']"
      ],
      "metadata": {
        "colab": {
          "base_uri": "https://localhost:8080/"
        },
        "id": "R7xtJFZLDrWQ",
        "outputId": "87ff24cd-717e-4fac-caea-c77e554e0a16"
      },
      "execution_count": 53,
      "outputs": [
        {
          "output_type": "execute_result",
          "data": {
            "text/plain": [
              "0.004476442720185026"
            ]
          },
          "metadata": {},
          "execution_count": 53
        }
      ]
    },
    {
      "cell_type": "code",
      "source": [
        "def del_letter(word,verbose=False):\n",
        "  split_w=[]\n",
        "  del_w=[]\n",
        "  for i in range(len(word)):\n",
        "    split_w.append((word[:i],word[i:]))\n",
        "  for k in split_w:\n",
        "    del_w.append(k[0]+k[1][1:])\n",
        "  if verbose:\n",
        "    print(f\"input word = {word} \\n splits of word = {split_w} \\n deleted = {del_w}\")\n",
        "  return del_w"
      ],
      "metadata": {
        "id": "adIv-xEwgUxg"
      },
      "execution_count": 54,
      "outputs": []
    },
    {
      "cell_type": "code",
      "source": [
        "del_letters=del_letter(\"carr\",verbose=True)"
      ],
      "metadata": {
        "colab": {
          "base_uri": "https://localhost:8080/"
        },
        "id": "R03xffzSitYt",
        "outputId": "867deaa8-0397-4004-e0d4-8fa33b2ea17d"
      },
      "execution_count": 55,
      "outputs": [
        {
          "output_type": "stream",
          "name": "stdout",
          "text": [
            "input word = carr \n",
            " splits of word = [('', 'carr'), ('c', 'arr'), ('ca', 'rr'), ('car', 'r')] \n",
            " deleted = ['arr', 'crr', 'car', 'car']\n"
          ]
        }
      ]
    },
    {
      "cell_type": "code",
      "source": [
        "print(f\"no of outputs of word be = \",len(del_letter(\"be\")))"
      ],
      "metadata": {
        "colab": {
          "base_uri": "https://localhost:8080/"
        },
        "id": "EhoHqF3hjabz",
        "outputId": "e709fdab-b64d-4055-a0f0-6ff35571493a"
      },
      "execution_count": 56,
      "outputs": [
        {
          "output_type": "stream",
          "name": "stdout",
          "text": [
            "no of outputs of word be =  2\n"
          ]
        }
      ]
    },
    {
      "cell_type": "code",
      "source": [
        "def switch_letter(word,verbose=False):\n",
        "  split_w=[]\n",
        "  switch_w=[]\n",
        "  for i in range(len(word)):\n",
        "    split_w.append([word[:i],word[i:]])\n",
        "  for k in split_w:\n",
        "    if len(k[1])>=2:\n",
        "      switch_w.append(k[0]+k[1][1]+k[1][0]+k[1][2:])\n",
        "  if verbose:\n",
        "    print(f\"input word = {word} \\n splits of word = {split_w} \\n switches= {switch_w}\")\n",
        "\n",
        "  return switch_w"
      ],
      "metadata": {
        "id": "pyKht_DpkUbJ"
      },
      "execution_count": 57,
      "outputs": []
    },
    {
      "cell_type": "code",
      "source": [
        "switches= switch_letter(\"eta\",True)"
      ],
      "metadata": {
        "colab": {
          "base_uri": "https://localhost:8080/"
        },
        "id": "y9K0z3d6mkXC",
        "outputId": "8c9b38b9-7d54-4b19-99e2-85edc859ac3e"
      },
      "execution_count": 58,
      "outputs": [
        {
          "output_type": "stream",
          "name": "stdout",
          "text": [
            "input word = eta \n",
            " splits of word = [['', 'eta'], ['e', 'ta'], ['et', 'a']] \n",
            " switches= ['tea', 'eat']\n"
          ]
        }
      ]
    },
    {
      "cell_type": "code",
      "source": [
        "def replace_letter(word,verbose=False):\n",
        "  switch_l=[]\n",
        "  inser_l=[]\n",
        "  letters=\"abcdefghijklmnopqrstuvwxyz\"\n",
        "  for i in range(len(word)):\n",
        "    switch_l.append([word[:i],word[i:]])\n",
        "  inser_l=[l+c+r[1:] for l,r in switch_l for c in letters if c!=r[0]]\n",
        "\n",
        "  if verbose:\n",
        "    print(f\"input word = {word} \\n switches = {switch_l} \\n insertions = {inser_l}\")\n",
        "\n",
        "  return inser_l"
      ],
      "metadata": {
        "id": "LOKPmVSxmvat"
      },
      "execution_count": 59,
      "outputs": []
    },
    {
      "cell_type": "code",
      "source": [
        "insertions=replace_letter(\"can\",True)"
      ],
      "metadata": {
        "colab": {
          "base_uri": "https://localhost:8080/"
        },
        "id": "wmPb-u2UotZq",
        "outputId": "13ad8da3-1250-415e-fcec-6c514249e0c0"
      },
      "execution_count": 60,
      "outputs": [
        {
          "output_type": "stream",
          "name": "stdout",
          "text": [
            "input word = can \n",
            " switches = [['', 'can'], ['c', 'an'], ['ca', 'n']] \n",
            " insertions = ['aan', 'ban', 'dan', 'ean', 'fan', 'gan', 'han', 'ian', 'jan', 'kan', 'lan', 'man', 'nan', 'oan', 'pan', 'qan', 'ran', 'san', 'tan', 'uan', 'van', 'wan', 'xan', 'yan', 'zan', 'cbn', 'ccn', 'cdn', 'cen', 'cfn', 'cgn', 'chn', 'cin', 'cjn', 'ckn', 'cln', 'cmn', 'cnn', 'con', 'cpn', 'cqn', 'crn', 'csn', 'ctn', 'cun', 'cvn', 'cwn', 'cxn', 'cyn', 'czn', 'caa', 'cab', 'cac', 'cad', 'cae', 'caf', 'cag', 'cah', 'cai', 'caj', 'cak', 'cal', 'cam', 'cao', 'cap', 'caq', 'car', 'cas', 'cat', 'cau', 'cav', 'caw', 'cax', 'cay', 'caz']\n"
          ]
        }
      ]
    },
    {
      "cell_type": "code",
      "source": [
        "print(f\"Number of outputs of replace_letter('at') is {len(replace_letter('at'))}\")"
      ],
      "metadata": {
        "colab": {
          "base_uri": "https://localhost:8080/"
        },
        "id": "dfzMEnYnpCJU",
        "outputId": "a3902988-3418-43d9-fd06-ed08561db207"
      },
      "execution_count": 61,
      "outputs": [
        {
          "output_type": "stream",
          "name": "stdout",
          "text": [
            "Number of outputs of replace_letter('at') is 50\n"
          ]
        }
      ]
    },
    {
      "cell_type": "code",
      "source": [
        "def insert_letter(word,verbose=False):\n",
        "  split_l=[]\n",
        "  letters=\"abcdefghijklmnopqrstuvwxyz\"\n",
        "  for i in range(len(word)+1):\n",
        "    split_l.append([word[:i],word[i:]])\n",
        "  ins_l=[l+c+r for l,r in split_l for c in letters]\n",
        "\n",
        "  if verbose:\n",
        "    print(f\"input word={word} \\n splits = {split_l} \\n insertions= {ins_l}\")\n",
        "\n",
        "  return ins_l"
      ],
      "metadata": {
        "id": "jZUCMOlppc01"
      },
      "execution_count": 62,
      "outputs": []
    },
    {
      "cell_type": "code",
      "source": [
        "insertions= insert_letter(\"at\",True)\n",
        "print(f\"Number of strings output by insert_letter('at') is {len(insertions)}\")"
      ],
      "metadata": {
        "colab": {
          "base_uri": "https://localhost:8080/"
        },
        "id": "Q0sPntPjq6eS",
        "outputId": "a3fbdc84-0579-4cac-f678-67757e4eaebe"
      },
      "execution_count": 63,
      "outputs": [
        {
          "output_type": "stream",
          "name": "stdout",
          "text": [
            "input word=at \n",
            " splits = [['', 'at'], ['a', 't'], ['at', '']] \n",
            " insertions= ['aat', 'bat', 'cat', 'dat', 'eat', 'fat', 'gat', 'hat', 'iat', 'jat', 'kat', 'lat', 'mat', 'nat', 'oat', 'pat', 'qat', 'rat', 'sat', 'tat', 'uat', 'vat', 'wat', 'xat', 'yat', 'zat', 'aat', 'abt', 'act', 'adt', 'aet', 'aft', 'agt', 'aht', 'ait', 'ajt', 'akt', 'alt', 'amt', 'ant', 'aot', 'apt', 'aqt', 'art', 'ast', 'att', 'aut', 'avt', 'awt', 'axt', 'ayt', 'azt', 'ata', 'atb', 'atc', 'atd', 'ate', 'atf', 'atg', 'ath', 'ati', 'atj', 'atk', 'atl', 'atm', 'atn', 'ato', 'atp', 'atq', 'atr', 'ats', 'att', 'atu', 'atv', 'atw', 'atx', 'aty', 'atz']\n",
            "Number of strings output by insert_letter('at') is 78\n"
          ]
        }
      ]
    },
    {
      "cell_type": "code",
      "source": [
        "def edit_one_letter(word,allow_switches=True):\n",
        "  edit_one=set()\n",
        "  #edit_one=set(insert_letter(word)+del_letter(word)+replace_letter(word))\n",
        "  edit_one.update(insert_letter(word))\n",
        "  if allow_switches:\n",
        "    edit_one.update(switch_letter(word))\n",
        "  edit_one.update(del_letter(word))\n",
        "  edit_one.update(replace_letter(word))\n",
        "  return set(edit_one)"
      ],
      "metadata": {
        "id": "u07cI3o1rGG-"
      },
      "execution_count": 64,
      "outputs": []
    },
    {
      "cell_type": "code",
      "source": [
        "one_edit=edit_one_letter(\"at\")\n",
        "one_edit\n",
        "print(\"length of one edit of at is = \",len(one_edit))"
      ],
      "metadata": {
        "colab": {
          "base_uri": "https://localhost:8080/"
        },
        "id": "aDpoGg6vtEQJ",
        "outputId": "7b89a35b-594c-4bfa-a7d3-e3b63ada846f"
      },
      "execution_count": 65,
      "outputs": [
        {
          "output_type": "stream",
          "name": "stdout",
          "text": [
            "length of one edit of at is =  129\n"
          ]
        }
      ]
    },
    {
      "cell_type": "code",
      "source": [
        "def edit_two_letter(word,allow_switches=True):\n",
        "  edit_two_set=set()\n",
        "  edit_one_set=edit_one_letter(word)\n",
        "  for word in edit_one_set:\n",
        "    edit_two_set.update(edit_one_letter(word))\n",
        "  return set(edit_two_set)"
      ],
      "metadata": {
        "id": "sIKmCroXuCeN"
      },
      "execution_count": 66,
      "outputs": []
    },
    {
      "cell_type": "code",
      "source": [
        "two_edit=edit_two_letter(\"a\")\n",
        "print(\"length of two edit distances set is = \",len(two_edit))"
      ],
      "metadata": {
        "colab": {
          "base_uri": "https://localhost:8080/"
        },
        "id": "7k5vfwcFy_cp",
        "outputId": "a23c39e2-f113-47c4-b687-d46add13d8a4"
      },
      "execution_count": 67,
      "outputs": [
        {
          "output_type": "stream",
          "name": "stdout",
          "text": [
            "length of two edit distances set is =  2654\n"
          ]
        }
      ]
    },
    {
      "cell_type": "code",
      "source": [
        "def get_corrections(word,probabs,vocab,n=2,verbose=False):\n",
        "  suggestions=[]\n",
        "  n_best=[]\n",
        "  temp=[]\n",
        "  if word in probabs.keys():\n",
        "    temp+=[word,word_probabilites[word]]\n",
        "  temp+=sorted([[w,word_probabilites[w]] for w in edit_one_letter(word) if w in vocab],key = lambda x : -x[1])\n",
        "  temp+=sorted([(w,word_probabilites[w]) for w in edit_two_letter(word) if w in vocab],key = lambda x: -x[1])\n",
        "\n",
        "  suggestions= set(sug[0] for sug in temp[:n])\n",
        "  n_best=[sug for sug in temp[:n]]\n",
        "  if verbose:\n",
        "    print(\"entered word = \", word, \"\\nsuggestions = \", suggestions)\n",
        "  return n_best"
      ],
      "metadata": {
        "id": "DH-e0kmVzQG-"
      },
      "execution_count": 68,
      "outputs": []
    },
    {
      "cell_type": "code",
      "source": [
        "my_word = 'dys'\n",
        "tmp_corrections = get_corrections(my_word, word_probabilites, vocab, 2, verbose=True)\n",
        "for i, word_prob in enumerate(tmp_corrections):\n",
        "    print(f\"word {i}: {word_prob[0]}, probability {word_prob[1]:.6f}\")"
      ],
      "metadata": {
        "colab": {
          "base_uri": "https://localhost:8080/"
        },
        "id": "cuhPTdKD8bPL",
        "outputId": "8513398b-ee27-4306-e80b-19c37f7f3060"
      },
      "execution_count": 69,
      "outputs": [
        {
          "output_type": "stream",
          "name": "stdout",
          "text": [
            "entered word =  dys \n",
            "suggestions =  {'dye', 'days'}\n",
            "word 0: days, probability 0.000410\n",
            "word 1: dye, probability 0.000019\n"
          ]
        }
      ]
    },
    {
      "cell_type": "code",
      "source": [
        "def min_edit_dist(source,target,ins_cost=1,del_cost=1,rep_cost=2):\n",
        "  m=len(source)\n",
        "  n=len(target)\n",
        "  D=np.zeros((m+1,n+1),dtype=int)\n",
        "  for i in range(0,m+1):\n",
        "    D[i,0]=i*del_cost\n",
        "  for i in range(0,n+1):\n",
        "    D[0,i]=i*ins_cost\n",
        "  for i in range(1,m+1):\n",
        "    for j in range(1,n+1):\n",
        "      r_cost=rep_cost\n",
        "      if source[i-1]==target[j-1]:\n",
        "        r_cost=0\n",
        "      D[i,j]=min(D[i-1,j-1]+r_cost,D[i-1,j]+del_cost,D[i,j-1]+ins_cost)\n",
        "\n",
        "  med=D[m,n]\n",
        "\n",
        "  return D,med\n",
        ""
      ],
      "metadata": {
        "id": "s84B25d18vdt"
      },
      "execution_count": 80,
      "outputs": []
    },
    {
      "cell_type": "code",
      "source": [
        "source =  'play'\n",
        "target = 'stay'\n",
        "matrix, min_edits = min_edit_dist(source, target)\n",
        "print(\"minimum edits: \",min_edits, \"\\n\")\n",
        "idx = list('#' + source)\n",
        "cols = list('#' + target)\n",
        "df = pd.DataFrame(matrix, index=idx, columns= cols)\n",
        "print(df)"
      ],
      "metadata": {
        "colab": {
          "base_uri": "https://localhost:8080/"
        },
        "id": "cGCuf52Ecbgy",
        "outputId": "6371cf16-9a22-44b1-b910-3deca10ca696"
      },
      "execution_count": 81,
      "outputs": [
        {
          "output_type": "stream",
          "name": "stdout",
          "text": [
            "minimum edits:  4 \n",
            "\n",
            "   #  s  t  a  y\n",
            "#  0  1  2  3  4\n",
            "p  1  2  3  4  5\n",
            "l  2  3  4  5  6\n",
            "a  3  4  5  4  5\n",
            "y  4  5  6  5  4\n"
          ]
        }
      ]
    },
    {
      "cell_type": "code",
      "source": [
        "source =  'eer'\n",
        "target = 'near'\n",
        "matrix, min_edits = min_edit_dist(source, target)\n",
        "print(\"minimum edits: \",min_edits, \"\\n\")\n",
        "idx = list(source)\n",
        "idx.insert(0, '#')\n",
        "cols = list(target)\n",
        "cols.insert(0, '#')\n",
        "df = pd.DataFrame(matrix, index=idx, columns= cols)\n",
        "print(df)"
      ],
      "metadata": {
        "colab": {
          "base_uri": "https://localhost:8080/"
        },
        "id": "svebtY9bcfXV",
        "outputId": "f7fe10fb-a49e-498b-ae59-3115cd5e3705"
      },
      "execution_count": 83,
      "outputs": [
        {
          "output_type": "stream",
          "name": "stdout",
          "text": [
            "minimum edits:  3 \n",
            "\n",
            "   #  n  e  a  r\n",
            "#  0  1  2  3  4\n",
            "e  1  2  1  2  3\n",
            "e  2  3  2  3  4\n",
            "r  3  4  3  4  3\n"
          ]
        }
      ]
    },
    {
      "cell_type": "code",
      "source": [
        "source = \"eer\"\n",
        "targets = edit_one_letter(source,allow_switches = False)\n",
        "for t in targets:\n",
        "    _, min_edits = min_edit_dist(source, t,1,1,1)\n",
        "    if min_edits != 1: print(source, t, min_edits)"
      ],
      "metadata": {
        "id": "yi39BB0hdwk-"
      },
      "execution_count": 84,
      "outputs": []
    },
    {
      "cell_type": "code",
      "source": [
        "source = \"eer\"\n",
        "targets = edit_two_letter(source,allow_switches = False)\n",
        "for t in targets:\n",
        "    _, min_edits = min_edit_dist(source, t,1,1,1)\n",
        "    if min_edits!=2 and min_edits != 1: print(source, t, min_edits)"
      ],
      "metadata": {
        "colab": {
          "base_uri": "https://localhost:8080/"
        },
        "id": "e8yCx-4XeFdN",
        "outputId": "e8bd507f-8747-46ba-a89e-35783fc2ec8e"
      },
      "execution_count": 85,
      "outputs": [
        {
          "output_type": "stream",
          "name": "stdout",
          "text": [
            "eer erze 3\n",
            "eer erme 3\n",
            "eer wre 3\n",
            "eer eroe 3\n",
            "eer erne 3\n",
            "eer jre 3\n",
            "eer erve 3\n",
            "eer erbe 3\n",
            "eer qre 3\n",
            "eer erie 3\n",
            "eer ure 3\n",
            "eer kre 3\n",
            "eer erte 3\n",
            "eer bre 3\n",
            "eer dre 3\n",
            "eer hre 3\n",
            "eer mre 3\n",
            "eer erce 3\n",
            "eer erfe 3\n",
            "eer gre 3\n",
            "eer yre 3\n",
            "eer erhe 3\n",
            "eer erxe 3\n",
            "eer xre 3\n",
            "eer nre 3\n",
            "eer erqe 3\n",
            "eer erpe 3\n",
            "eer erge 3\n",
            "eer fre 3\n",
            "eer erse 3\n",
            "eer zre 3\n",
            "eer are 3\n",
            "eer erde 3\n",
            "eer ore 3\n",
            "eer erye 3\n",
            "eer erae 3\n",
            "eer pre 3\n",
            "eer ire 3\n",
            "eer erle 3\n",
            "eer erje 3\n",
            "eer erke 3\n",
            "eer cre 3\n",
            "eer vre 3\n",
            "eer tre 3\n",
            "eer eer 0\n",
            "eer rre 3\n",
            "eer erue 3\n",
            "eer lre 3\n",
            "eer erwe 3\n",
            "eer sre 3\n"
          ]
        }
      ]
    },
    {
      "cell_type": "code",
      "source": [],
      "metadata": {
        "id": "cIHDLW_JeWYW"
      },
      "execution_count": null,
      "outputs": []
    }
  ]
}